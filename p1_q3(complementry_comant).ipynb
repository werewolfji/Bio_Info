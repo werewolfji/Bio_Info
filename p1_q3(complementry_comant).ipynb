{
  "nbformat": 4,
  "nbformat_minor": 0,
  "metadata": {
    "colab": {
      "provenance": [],
      "authorship_tag": "ABX9TyNyMNHFVBdK//bZFa73Gqgd",
      "include_colab_link": true
    },
    "kernelspec": {
      "name": "python3",
      "display_name": "Python 3"
    },
    "language_info": {
      "name": "python"
    }
  },
  "cells": [
    {
      "cell_type": "markdown",
      "metadata": {
        "id": "view-in-github",
        "colab_type": "text"
      },
      "source": [
        "<a href=\"https://colab.research.google.com/github/werewolfji/Bio_Info/blob/main/p1_q3(complementry_comant).ipynb\" target=\"_parent\"><img src=\"https://colab.research.google.com/assets/colab-badge.svg\" alt=\"Open In Colab\"/></a>"
      ]
    },
    {
      "cell_type": "code",
      "source": [
        "def find_complementary_strand(dna_sequence):\n",
        "    # Dictionary mapping each nucleotide to its complementary base pair\n",
        "    complement_dict = {'A': 'T', 'T': 'A', 'C': 'G', 'G': 'C'}\n",
        "\n",
        "    # Initialize an empty string to store the complementary sequence\n",
        "    complementary_sequence = ''\n",
        "\n",
        "    # Iterate through each nucleotide in the input DNA sequence\n",
        "    for nucleotide in dna_sequence:\n",
        "        # Look up the complementary base pair for the current nucleotide\n",
        "        # If the nucleotide is not found in the dictionary, return the same nucleotide (handles unknown characters)\n",
        "        complementary_sequence += complement_dict.get(nucleotide, nucleotide)\n",
        "\n",
        "    # Return the final complementary DNA sequence\n",
        "    return complementary_sequence\n",
        "\n",
        "# Define the input DNA sequence\n",
        "dna_sequence = \"CTCGGATTTGTAAAGATCATGATCTCATACATAGTACCTAGCCATTG\"\n",
        "\n",
        "# Call the function to find the complementary strand\n",
        "complementary_strand = find_complementary_strand(dna_sequence)\n",
        "\n",
        "# Print the original DNA sequence and its complementary strand\n",
        "print(\"Original DNA Sequence:\", dna_sequence)\n",
        "print(\"Complementary Strand:\", complementary_strand)\n"
      ],
      "metadata": {
        "colab": {
          "base_uri": "https://localhost:8080/"
        },
        "id": "2v8YyGJDUzP8",
        "outputId": "02a3e5e2-e0f0-474d-cf30-246081b00fea"
      },
      "execution_count": null,
      "outputs": [
        {
          "output_type": "stream",
          "name": "stdout",
          "text": [
            "Original DNA Sequence: CTCGGATTTGTAAAGATCATGATCTCATACATAGTACCTAGCCATTG\n",
            "Complementary Strand: GAGCCTAAACATTTCTAGTACTAGAGTATGTATCATGGATCGGTAAC\n"
          ]
        }
      ]
    },
    {
      "cell_type": "code",
      "source": [
        "# Define the input DNA sequence\n",
        "dna_sequence = \"CTCGGATTTGTAAAGATCATGATCTCATACATAGTACCTAGCCATTG\"\n",
        "\n",
        "# Initialize an empty string to store the complementary sequence\n",
        "complementary_sequence = \"\"\n",
        "\n",
        "# Iterate through each nucleotide in the input DNA sequence\n",
        "for f in dna_sequence:\n",
        "    # Replace each nucleotide with its complementary base pair\n",
        "    if f == \"A\":\n",
        "        complementary_sequence += \"T\"\n",
        "    elif f == \"T\":\n",
        "        complementary_sequence += \"A\"\n",
        "    elif f == \"C\":\n",
        "        complementary_sequence += \"G\"\n",
        "    elif f == \"G\":\n",
        "        complementary_sequence += \"C\"\n",
        "    else:\n",
        "        # If the nucleotide is not recognized, just keep it as it is\n",
        "        complementary_sequence += f\n",
        "\n",
        "\n",
        "# Print the original DNA sequence and its complementary strand in reverse\n",
        "print(\"Original DNA Sequence:\", dna_sequence)\n",
        "print(\"Complementary Strand (3'to 5'):\",complementary_sequence)\n"
      ],
      "metadata": {
        "colab": {
          "base_uri": "https://localhost:8080/"
        },
        "id": "daCKaN1gWJXQ",
        "outputId": "1767481e-985c-45b1-cd7e-e12716897947"
      },
      "execution_count": null,
      "outputs": [
        {
          "output_type": "stream",
          "name": "stdout",
          "text": [
            "Original DNA Sequence: CTCGGATTTGTAAAGATCATGATCTCATACATAGTACCTAGCCATTG\n",
            "Complementary Strand (3'to 5'): GAGCCTAAACATTTCTAGTACTAGAGTATGTATCATGGATCGGTAAC\n"
          ]
        }
      ]
    },
    {
      "cell_type": "code",
      "source": [
        "def translate(dna_seq):\n",
        "    # Dictionary mapping codons to amino acids\n",
        "    codon_table = {\n",
        "        \"TTT\": \"F\", \"TTC\": \"F\", \"TTA\": \"L\", \"TTG\": \"L\",\n",
        "        \"TCT\": \"S\", \"TCC\": \"S\", \"TCA\": \"S\", \"TCG\": \"S\",\n",
        "        \"TAT\": \"Y\", \"TAC\": \"Y\", \"TAA\": \"*\", \"TAG\": \"*\",\n",
        "        \"TGT\": \"C\", \"TGC\": \"C\", \"TGA\": \"*\", \"TGG\": \"W\",\n",
        "        \"CTT\": \"L\", \"CTC\": \"L\", \"CTA\": \"L\", \"CTG\": \"L\",\n",
        "        \"CCT\": \"P\", \"CCC\": \"P\", \"CCA\": \"P\", \"CCG\": \"P\",\n",
        "        \"CAT\": \"H\", \"CAC\": \"H\", \"CAA\": \"Q\", \"CAG\": \"Q\",\n",
        "        \"CGT\": \"R\", \"CGC\": \"R\", \"CGA\": \"R\", \"CGG\": \"R\",\n",
        "        \"ATT\": \"I\", \"ATC\": \"I\", \"ATA\": \"I\", \"ATG\": \"M\",\n",
        "        \"ACT\": \"T\", \"ACC\": \"T\", \"ACA\": \"T\", \"ACG\": \"T\",\n",
        "        \"AAT\": \"N\", \"AAC\": \"N\", \"AAA\": \"K\", \"AAG\": \"K\",\n",
        "        \"AGT\": \"S\", \"AGC\": \"S\", \"AGA\": \"R\", \"AGG\": \"R\",\n",
        "        \"GTT\": \"V\", \"GTC\": \"V\", \"GTA\": \"V\", \"GTG\": \"V\",\n",
        "        \"GCT\": \"A\", \"GCC\": \"A\", \"GCA\": \"A\", \"GCG\": \"A\",\n",
        "        \"GAT\": \"D\", \"GAC\": \"D\", \"GAA\": \"E\", \"GAG\": \"E\",\n",
        "        \"GGT\": \"G\", \"GGC\": \"G\", \"GGA\": \"G\", \"GGG\": \"G\"\n",
        "    }\n",
        "\n",
        "    protein_seq = \"\"\n",
        "\n",
        "    # Iterate over the DNA sequence in steps of 3 to get each codon\n",
        "    for i in range(0, len(dna_seq), 3):\n",
        "        codon = dna_seq[i:i+3]\n",
        "        amino_acid = codon_table.get(codon, \"-\")  # If codon not found, use \"-\"\n",
        "        protein_seq += amino_acid\n",
        "\n",
        "    return protein_seq\n",
        "\n",
        "dna_seq = \"GACATTGTGAACAGTAAAAAAGTCCATGCAATGCGCAAGGAGCAGAAGAGGAAGCAGGGCAAGCAGCGCTCCATGGGCTCTCCCATGGACTACTCTCCTCTGCCCATCGACAAGCATGAGCCTGAATTTGGTCCATGCAGAAGAAAACTGGATGGG\"\n",
        "protein_seq = translate(dna_seq)\n",
        "print(\"Protein Sequence:\", protein_seq)\n"
      ],
      "metadata": {
        "colab": {
          "base_uri": "https://localhost:8080/"
        },
        "id": "UKLS3tbyKkmp",
        "outputId": "bcd64b25-9966-4cde-df54-0310eedd7a69"
      },
      "execution_count": null,
      "outputs": [
        {
          "output_type": "stream",
          "name": "stdout",
          "text": [
            "Protein Sequence: DIVNSKKVHAMRKEQKRKQGKQRSMGSPMDYSPLPIDKHEPEFGPCRRKLDG\n"
          ]
        }
      ]
    },
    {
      "cell_type": "code",
      "source": [
        "def search_dna(dna_sequence, search_strings):\n",
        "    matches = {string: [] for string in search_strings}  # Initialize a dictionary to store matches for each search string\n",
        "\n",
        "    # Iterate through each search string\n",
        "    for search in search_strings:\n",
        "        # Initialize variables to count matches and store start positions\n",
        "        total_matches = 0\n",
        "        start_positions = []\n",
        "\n",
        "        # Find all occurrences of the search string in the DNA sequence\n",
        "        index = dna_sequence.find(search)\n",
        "        while index != -1:\n",
        "            total_matches += 1\n",
        "            start_positions.append(index)\n",
        "            index = dna_sequence.find(search, index + 1)\n",
        "\n",
        "        # Store the total number of matches and start positions for the current search string\n",
        "        matches[search] = (total_matches, start_positions)\n",
        "\n",
        "    return matches\n",
        "\n",
        "# DNA sequence\n",
        "dna_sequence = \"GACATTGTGAACAGTAAAAAAGTCCATGCAATGCGCAAGGAGCAGAAGAGGAAGCAGGGCAAGCAGCGCTCCATGGGCTCTCCCATGGACTACTCTCCTCTGCCCATCGACAAGCATGAGCCTGAATTTGGTCCATGCAGAAGAAAACTGGATGGG\"\n",
        "\n",
        "# List of search strings\n",
        "search_strings = ['AAG', 'GTC', 'GAG', 'ACTA', 'ATAT']\n",
        "\n",
        "# Search for the strings in the DNA sequence\n",
        "matches = search_dna(dna_sequence, search_strings)\n",
        "\n",
        "# Print the total number of matches and start positions for each search string\n",
        "for search in search_strings:\n",
        "    total_matches, start_positions = matches[search]\n",
        "    print(f\"Search String: {search}, Total Matches: {total_matches}, Start Positions: {start_positions}\")\n"
      ],
      "metadata": {
        "colab": {
          "base_uri": "https://localhost:8080/"
        },
        "id": "zO3kEjAaSpBY",
        "outputId": "1273b8ff-9215-4e4f-e98a-b65223167fd6"
      },
      "execution_count": null,
      "outputs": [
        {
          "output_type": "stream",
          "name": "stdout",
          "text": [
            "Search String: AAG, Total Matches: 7, Start Positions: [19, 36, 45, 51, 60, 111, 140]\n",
            "Search String: GTC, Total Matches: 2, Start Positions: [21, 130]\n",
            "Search String: GAG, Total Matches: 3, Start Positions: [39, 47, 117]\n",
            "Search String: ACTA, Total Matches: 1, Start Positions: [88]\n",
            "Search String: ATAT, Total Matches: 0, Start Positions: []\n"
          ]
        }
      ]
    },
    {
      "cell_type": "code",
      "source": [
        "def compute_base_stacking_energy(dna_sequence, base_stacking_energy_data):\n",
        "    total_energy = 0\n",
        "    num_pairs = 0\n",
        "\n",
        "    # Iterate through the DNA sequence in pairs\n",
        "    for i in range(len(dna_sequence) - 1):\n",
        "        base_pair = dna_sequence[i:i+2]\n",
        "\n",
        "        # Look up the base stacking energy for the current base pair\n",
        "        if base_pair in base_stacking_energy_data:\n",
        "            total_energy += base_stacking_energy_data[base_pair]\n",
        "            num_pairs += 1\n",
        "\n",
        "    # Compute the average base stacking energy\n",
        "    if num_pairs > 0:\n",
        "        average_energy = total_energy / num_pairs\n",
        "        return average_energy\n",
        "    else:\n",
        "        return None  # No valid base pairs found in the sequence\n",
        "\n",
        "# Example DNA sequence\n",
        "dna_sequence = \"CTCGGATTTGTAAAGATCATGATCTCATACATAGTACCTAGCCATTG\"\n",
        "\n",
        "# Example base stacking energy data (dummy values)\n",
        "base_stacking_energy_data = {\n",
        "    \"AA\": -4, \"AT\": -7, \"AC\": -5, \"AG\": -11, \"TA\": -7, \"TT\": -2, \"TC\": -3, \"TG\": -4, \"CA\": -9, \"CT\": -5, \"CC\": -6, \"CG\": -7, \"GA\": -9, \"GT\": -6, \"GC\": -4, \"GG\": -11,\n",
        "    # Add more base pair combinations and their corresponding energies here\n",
        "}\n",
        "\n",
        "# Compute the average base stacking energy\n",
        "average_energy = compute_base_stacking_energy(dna_sequence, base_stacking_energy_data)\n",
        "\n",
        "if average_energy is not None:\n",
        "    print(\"Average Base Stacking Energy:\", average_energy)\n",
        "else:\n",
        "    print(\"No valid base pairs found in the sequence.\")\n",
        "\n"
      ],
      "metadata": {
        "colab": {
          "base_uri": "https://localhost:8080/"
        },
        "id": "_aAh8XOYZPIA",
        "outputId": "66a78828-0f33-45fa-d458-769d32e80251"
      },
      "execution_count": null,
      "outputs": [
        {
          "output_type": "stream",
          "name": "stdout",
          "text": [
            "Average Base Stacking Energy: -6.282608695652174\n"
          ]
        }
      ]
    }
  ]
}